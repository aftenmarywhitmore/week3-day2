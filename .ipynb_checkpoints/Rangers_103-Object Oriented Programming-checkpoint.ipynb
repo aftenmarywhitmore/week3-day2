{
 "cells": [
  {
   "cell_type": "markdown",
   "metadata": {},
   "source": [
    "# Object-Oriented-Programming (OOP)"
   ]
  },
  {
   "cell_type": "markdown",
   "metadata": {},
   "source": [
    "## Tasks Today:\n",
    "\n",
    "   \n",
    "\n",
    "1) <b>Creating a Class (Initializing/Declaring)</b> <br>\n",
    "2) <b>Using a Class (Instantiating)</b> <br>\n",
    " &nbsp;&nbsp;&nbsp;&nbsp; a) Creating One Instance <br>\n",
    " &nbsp;&nbsp;&nbsp;&nbsp; b) Creating Multiple Instances <br>\n",
    " &nbsp;&nbsp;&nbsp;&nbsp; c) In-Class Exercise #1 - Create a Class 'Car' and instantiate three different makes of cars <br>\n",
    "3) <b>The \\__init\\__() Method</b> <br>\n",
    " &nbsp;&nbsp;&nbsp;&nbsp; a) The 'self' Attribute <br>\n",
    "4) <b>Class Attributes</b> <br>\n",
    " &nbsp;&nbsp;&nbsp;&nbsp; a) Initializing Attributes <br>\n",
    " &nbsp;&nbsp;&nbsp;&nbsp; b) Setting an Attribute Outside of the \\__init\\__() Method <br>\n",
    " &nbsp;&nbsp;&nbsp;&nbsp; c) Setting Defaults for Attributes <br>\n",
    " &nbsp;&nbsp;&nbsp;&nbsp; d) Accessing Class Attributes <br>\n",
    " &nbsp;&nbsp;&nbsp;&nbsp; e) Changing Class Attributes <br>\n",
    " &nbsp;&nbsp;&nbsp;&nbsp; f) In-Class Exercise #2 - Add a color and wheels attribute to your 'Car' class <br>\n",
    "5) <b>Class Methods</b> <br>\n",
    " &nbsp;&nbsp;&nbsp;&nbsp; a) Creating <br>\n",
    " &nbsp;&nbsp;&nbsp;&nbsp; b) Calling <br>\n",
    " &nbsp;&nbsp;&nbsp;&nbsp; c) Modifying an Attribute's Value Through a Method <br>\n",
    " &nbsp;&nbsp;&nbsp;&nbsp; d) Incrementing an Attribute's Value Through a Method <br>\n",
    " &nbsp;&nbsp;&nbsp;&nbsp; e) In-Class Exercise #3 - Add a method that prints the cars color and wheel number, then call them <br>\n",
    "6) <b>Inheritance</b> <br>\n",
    " &nbsp;&nbsp;&nbsp;&nbsp; a) Syntax for Inheriting from a Parent Class <br>\n",
    " &nbsp;&nbsp;&nbsp;&nbsp; b) The \\__init\\__() Method for a Child Class (super()) <br>\n",
    " &nbsp;&nbsp;&nbsp;&nbsp; c) Defining Attributes and Methods for the Child Class <br>\n",
    " &nbsp;&nbsp;&nbsp;&nbsp; d) Method Overriding <br>\n",
    " &nbsp;&nbsp;&nbsp;&nbsp; e) In-Class Exercise #4 - Create a class 'Ford' that inherits from 'Car' class and initialize it as a Blue Ford Explorer with 4 wheels using the super() method <br>\n",
    "7) <b>Classes as Attributes</b> <br>\n",
    "8) <b>Exercises</b> <br>\n",
    " &nbsp;&nbsp;&nbsp;&nbsp; a) Exercise #1 - Turn the shopping cart program from last week into an object-oriented program <br>"
   ]
  },
  {
   "cell_type": "markdown",
   "metadata": {},
   "source": [
    "## Creating a Class (Initializing/Declaring)\n",
    "<p>When creating a class, function, or even a variable you are initializing that object. Initializing and Declaring occur at the same time in Python, whereas in lower level languages you have to declare an object before initializing it. This is the first step in the process of using a class.</p>"
   ]
  },
  {
   "cell_type": "code",
   "execution_count": 1,
   "metadata": {},
   "outputs": [
    {
     "name": "stdout",
     "output_type": "stream",
     "text": [
      "<class '__main__.Car'>\n"
     ]
    }
   ],
   "source": [
    "#keyword = class \n",
    "#name = \"Ryan\" ; \"Ryan\" is giving value to name\n",
    "#class attribute = variables have access to each value \n",
    "#classes are like blueprints \n",
    "#like a suburb: the houses are basically the same but there are variations on the theme\n",
    "\n",
    "class Car():\n",
    "    wheels = 4\n",
    "    color = 'blue'\n",
    "    \n",
    "print(type(Car()))"
   ]
  },
  {
   "cell_type": "markdown",
   "metadata": {},
   "source": [
    "## Using a Class (Instantiating)\n",
    "<p>The process of creating a class is called <i>Instantiating</i>. Each time you create a variable of that type of class, it is referred to as an <i>Instance</i> of that class. This is the second step in the process of using a class.</p>"
   ]
  },
  {
   "cell_type": "markdown",
   "metadata": {},
   "source": [
    "##### Creating One Instance"
   ]
  },
  {
   "cell_type": "code",
   "execution_count": 2,
   "metadata": {},
   "outputs": [
    {
     "name": "stdout",
     "output_type": "stream",
     "text": [
      "<class '__main__.Car'>\n",
      "4\n"
     ]
    }
   ],
   "source": [
    "#set a variable = value \n",
    "ford = Car()\n",
    "print(type(ford))\n",
    "print(ford.wheels)\n",
    "\n",
    "#List methods:  \n",
    "    #.count()\n",
    "    #.sort()\n",
    "    #.append()\n",
    "    \n",
    "#Class methods:\n",
    "    #.color()\n",
    "    #.wheels()\n",
    "    \n",
    "\n",
    "#if variable is not a number, put in \"\": 1957 vs. \"yellow\"\n"
   ]
  },
  {
   "cell_type": "markdown",
   "metadata": {},
   "source": [
    "##### Creating Multiple Instances"
   ]
  },
  {
   "cell_type": "code",
   "execution_count": 3,
   "metadata": {},
   "outputs": [
    {
     "name": "stdout",
     "output_type": "stream",
     "text": [
      "blue\n",
      "4\n",
      "blue\n"
     ]
    }
   ],
   "source": [
    "mazda = Car()\n",
    "print(mazda.color)\n",
    "honda = Car()\n",
    "print(honda.wheels)\n",
    "chevy = Car() \n",
    "print(chevy.color)\n",
    "\n",
    "#init method- gives us positional parameters"
   ]
  },
  {
   "cell_type": "markdown",
   "metadata": {},
   "source": [
    "##### In-Class Exercise #1 - Create a Class 'Car' and Instantiate three different makes of cars"
   ]
  },
  {
   "cell_type": "code",
   "execution_count": 71,
   "metadata": {},
   "outputs": [
    {
     "name": "stdout",
     "output_type": "stream",
     "text": [
      "JayZs 2004 Maybach Exelero 8000000\n",
      "Kanyes 2012 Lamborghini Aventador 750000\n"
     ]
    }
   ],
   "source": [
    "class Car():\n",
    "    def __init__(self, owner, year, make, model, cost):\n",
    "        self.make = make\n",
    "        self.model = model\n",
    "        self.year = year\n",
    "        self.owner = owner\n",
    "        self.cost = cost\n",
    "maybach = Car(\"JayZs\", 2004,\"Maybach\", \"Exelero\",  8000000)\n",
    "print(maybach.owner, maybach.year, maybach.make, maybach.model, maybach.cost)\n",
    "\n",
    "lambo = Car(\"Kanyes\", 2012, \"Lamborghini\", \"Aventador\", 750000)\n",
    "print(lambo.owner, lambo.year, lambo.make, lambo.model, lambo.cost)\n",
    "\n",
    "\n",
    "\n"
   ]
  },
  {
   "cell_type": "markdown",
   "metadata": {},
   "source": [
    "## The \\__init\\__() Method <br>\n",
    "<p>This method is used in almost every created class, and called only once upon the creation of the class instance. This method will initialize all variables needed for the object.</p>"
   ]
  },
  {
   "cell_type": "code",
   "execution_count": 6,
   "metadata": {},
   "outputs": [
    {
     "name": "stdout",
     "output_type": "stream",
     "text": [
      "4\n",
      "blue\n",
      "red\n"
     ]
    }
   ],
   "source": [
    "#__init__ = initialize \n",
    "\n",
    "class Car():\n",
    "    def __init__(self, wheels, color, doors):\n",
    "        self.wheels = wheels\n",
    "        self.color = color \n",
    "        self.doors = doors\n",
    "ford = Car(4, \"blue\", 2)\n",
    "print(ford.wheels)\n",
    "print(ford.color)\n",
    "mazda = Car(4, \"red\", 6)\n",
    "print(mazda.color)"
   ]
  },
  {
   "cell_type": "markdown",
   "metadata": {},
   "source": [
    "##### The 'self' Attribute <br>\n",
    "<p>This attribute is required to keep track of specific instance's attributes. Without the self attribute, the program would not know how to reference or keep track of an instance's attributes.</p>"
   ]
  },
  {
   "cell_type": "code",
   "execution_count": null,
   "metadata": {},
   "outputs": [],
   "source": [
    "# see above\n",
    "\n",
    "class Pokemon():\n",
    "    def __init__(self, name, type_):\n",
    "        #self is going to hold the place of the object we instantiate\n",
    "        self.name = name\n",
    "        self.type_ = type_\n",
    "        print(f\"self is referencing the object {self}, {self.name}\")\n",
    "        print(self.type)\n",
    "charmander = Pokemon(\"Charmander\", \"fire\")\n",
    "        \n",
    "        "
   ]
  },
  {
   "cell_type": "markdown",
   "metadata": {},
   "source": [
    "## Class Attributes <br>\n",
    "<p>While variables are inside of a class, they are referred to as attributes and not variables. When someone says 'attribute' you know they're speaking about a class. Attributes can be initialized through the init method, or outside of it.</p>"
   ]
  },
  {
   "cell_type": "markdown",
   "metadata": {},
   "source": [
    "##### Initializing Attributes"
   ]
  },
  {
   "cell_type": "code",
   "execution_count": null,
   "metadata": {},
   "outputs": [],
   "source": [
    "# see above\n",
    "squirtle = Pokemon(\"Squirtle\", \"Water\")"
   ]
  },
  {
   "cell_type": "markdown",
   "metadata": {},
   "source": [
    "##### Accessing Class Attributes"
   ]
  },
  {
   "cell_type": "code",
   "execution_count": 122,
   "metadata": {
    "scrolled": true
   },
   "outputs": [
    {
     "ename": "NameError",
     "evalue": "name 'Pokemon' is not defined",
     "output_type": "error",
     "traceback": [
      "\u001b[0;31m---------------------------------------------------------------------------\u001b[0m",
      "\u001b[0;31mNameError\u001b[0m                                 Traceback (most recent call last)",
      "Input \u001b[0;32mIn [122]\u001b[0m, in \u001b[0;36m<cell line: 2>\u001b[0;34m()\u001b[0m\n\u001b[1;32m      1\u001b[0m \u001b[38;5;66;03m# See Above\u001b[39;00m\n\u001b[0;32m----> 2\u001b[0m squirtle \u001b[38;5;241m=\u001b[39m \u001b[43mPokemon\u001b[49m(\u001b[38;5;124m\"\u001b[39m\u001b[38;5;124mSquirtle\u001b[39m\u001b[38;5;124m\"\u001b[39m, \u001b[38;5;124m\"\u001b[39m\u001b[38;5;124mWater\u001b[39m\u001b[38;5;124m\"\u001b[39m)\n\u001b[1;32m      3\u001b[0m \u001b[38;5;28mprint\u001b[39m(squirtle\u001b[38;5;241m.\u001b[39mname)\n\u001b[1;32m      4\u001b[0m \u001b[38;5;28mprint\u001b[39m(squirtle\u001b[38;5;241m.\u001b[39mtype_)\n",
      "\u001b[0;31mNameError\u001b[0m: name 'Pokemon' is not defined"
     ]
    }
   ],
   "source": [
    "# See Above\n",
    "squirtle = Pokemon(\"Squirtle\", \"Water\")\n",
    "print(squirtle.name)\n",
    "print(squirtle.type_)\n",
    "\n",
    "print(squirtle.__dict__)"
   ]
  },
  {
   "cell_type": "markdown",
   "metadata": {},
   "source": [
    "##### Setting Defaults for Attributes"
   ]
  },
  {
   "cell_type": "code",
   "execution_count": 39,
   "metadata": {},
   "outputs": [
    {
     "name": "stdout",
     "output_type": "stream",
     "text": [
      "4\n",
      "Blue\n"
     ]
    }
   ],
   "source": [
    "class Car():\n",
    "    def __init__(self, wheels):\n",
    "        self.wheels = wheels\n",
    "        self.color = \"Blue\"\n",
    "        \n",
    "honda = Car(4)\n",
    "print(honda.wheels)\n",
    "print(honda.color)"
   ]
  },
  {
   "cell_type": "code",
   "execution_count": 40,
   "metadata": {},
   "outputs": [
    {
     "name": "stdout",
     "output_type": "stream",
     "text": [
      "4\n",
      "Blue\n"
     ]
    }
   ],
   "source": [
    "class Car():\n",
    "    def __init__(self, wheels, color = \"Blue\"):\n",
    "        self.wheels = wheels\n",
    "        self.color = color \n",
    "        \n",
    "ford = Car(4)\n",
    "print(ford.wheels)\n",
    "print(ford.color)"
   ]
  },
  {
   "cell_type": "markdown",
   "metadata": {},
   "source": [
    "##### Changing Class Attributes <br>\n",
    "<p>Keep in mind there are global class attributes and then there are attributes only available to each class instance which won't effect other classes.</p>"
   ]
  },
  {
   "cell_type": "code",
   "execution_count": 43,
   "metadata": {},
   "outputs": [
    {
     "name": "stdout",
     "output_type": "stream",
     "text": [
      "{'wheels': 4, 'color': 'white'}\n",
      "Before attribute change white\n",
      "After attribute change white\n",
      "white\n"
     ]
    }
   ],
   "source": [
    "#Change the default attribute \n",
    "print(honda.__dict__) \n",
    "#.__dict__ = will tell you what is going on with your class and it's attributes \n",
    "print(f\"Before attribute change {honda.color}\")\n",
    "honda.color = \"white\"\n",
    "print(f\"After attribute change {honda.color}\")\n",
    "print(honda.color)\n"
   ]
  },
  {
   "cell_type": "code",
   "execution_count": 44,
   "metadata": {
    "scrolled": true
   },
   "outputs": [
    {
     "name": "stdout",
     "output_type": "stream",
     "text": [
      "Before attribute change Blue\n",
      "After attribute change Orange\n"
     ]
    }
   ],
   "source": [
    "print(f\"Before attribute change {ford.color}\")\n",
    "ford.color = \"Orange\"\n",
    "print(f\"After attribute change {ford.color}\")"
   ]
  },
  {
   "cell_type": "code",
   "execution_count": 45,
   "metadata": {},
   "outputs": [
    {
     "name": "stdout",
     "output_type": "stream",
     "text": [
      "Orange\n"
     ]
    }
   ],
   "source": [
    "print(ford.color)\n",
    "#until I change the attribute, it will remain as is. Use ^ to alter attributes "
   ]
  },
  {
   "cell_type": "markdown",
   "metadata": {},
   "source": [
    "##### In-Class Exercise #2 - Add a doors and seats attribute to your 'Car' class then print out two different instances with different doors and seats"
   ]
  },
  {
   "cell_type": "code",
   "execution_count": 67,
   "metadata": {},
   "outputs": [
    {
     "name": "stdout",
     "output_type": "stream",
     "text": [
      "JayZs 2004 Maybach Exelero 8000000\n",
      "Kanyes 2012 Lamborghini Aventador 750000\n",
      "\n",
      "\n",
      "Before 'Lemonade' JayZs\n",
      "After 'Lemonade' Beyonce Gisele Knowles Carters\n",
      "\n",
      "\n",
      "Before it all came crumbling down Kanyes, 750000\n",
      "After it crumbled even harder Kimberly Noel Kardashians, Kimberly Noel Kardashians\n",
      "\n",
      "\n",
      "Beyonce Gisele Knowles Carters 2004 Maybach Exelero priceless\n",
      "Kimberly Noel Kardashians 2012 Lamborghini Aventador priceless\n"
     ]
    }
   ],
   "source": [
    "class Car():\n",
    "    def __init__(self, owner, year, make, model, cost):\n",
    "        self.make = make\n",
    "        self.model = model\n",
    "        self.year = year\n",
    "        self.owner = owner\n",
    "        self.cost = cost\n",
    "maybach = Car(\"JayZs\", 2004,\"Maybach\", \"Exelero\",  8000000)\n",
    "print(maybach.owner, maybach.year, maybach.make, maybach.model, maybach.cost)\n",
    "\n",
    "lambo = Car(\"Kanyes\", 2012, \"Lamborghini\", \"Aventador\", 750000)\n",
    "print(lambo.owner, lambo.year, lambo.make, lambo.model, lambo.cost)\n",
    "\n",
    "print(\"\\n\")\n",
    "\n",
    "print(f\"Before 'Lemonade' {maybach.owner}\")\n",
    "maybach.owner = \"Beyonce Gisele Knowles Carters\"\n",
    "maybach.cost = \"priceless\"\n",
    "print(f\"After 'Lemonade' {maybach.owner}\")\n",
    "\n",
    "print(\"\\n\")\n",
    "\n",
    "print(f\"Before it all came crumbling down {lambo.owner}, {lambo.cost}\")\n",
    "lambo.owner = \"Kimberly Noel Kardashians\"\n",
    "lambo.cost = \"priceless\"\n",
    "print(f\"After it crumbled even harder {lambo.owner}, {lambo.owner}\")\n",
    "\n",
    "print(\"\\n\")\n",
    "\n",
    "print(maybach.owner, maybach.year, maybach.make, maybach.model, maybach.cost)\n",
    "print(lambo.owner, lambo.year, lambo.make, lambo.model, lambo.cost)\n",
    "\n"
   ]
  },
  {
   "cell_type": "markdown",
   "metadata": {},
   "source": [
    "## Class Methods <br>\n",
    "<p>While inside of a class, functions are referred to as 'methods'. If you hear someone mention methods, they're speaking about classes. Methods are essentially functions, but only callable on the instances of a class.</p>"
   ]
  },
  {
   "cell_type": "markdown",
   "metadata": {},
   "source": [
    "##### Creating"
   ]
  },
  {
   "cell_type": "code",
   "execution_count": 75,
   "metadata": {},
   "outputs": [],
   "source": [
    "class Bus():\n",
    "    \"\"\"\n",
    "    The bus will have doors, seats, seats available, color, and a bus driver\n",
    "    \n",
    "    Attributes for the class: \n",
    "    -doors: integer\n",
    "    -seats: integer\n",
    "    -seats_available: integer\n",
    "    -color: string\n",
    "    -bus_driver: string\n",
    "    \n",
    "    \"\"\"\n",
    "    \n",
    "    def __init__(self, doors, seats, seats_available, color, bus_driver):\n",
    "        self.doors = doors\n",
    "        self.seats = seats\n",
    "        self.seats_available = seats_available\n",
    "        self.color = color\n",
    "        self.bus_driver = bus_driver\n",
    "        \n",
    "#decrement the number of seats_available\n",
    "    def load_passengers(self): #needs to take in self because we need to reference the object (which is self)\n",
    "        if self.seats_available <= 0: \n",
    "            print(\"This bus is full! You can't take any more passengers!\")\n",
    "            if self.seats_available < 0: \n",
    "                print(f\"you left {abs(self.seats_available)} by the road!\")\n",
    "                self.seats_available = 0 #if it's full we wont' be able to add passengers\n",
    "        else: \n",
    "            passengers = int(input(\"How many passengers are getting on?\"))\n",
    "            self.seats_available -= passengers\n",
    "            print(f\"{passengers} passengers have boarded. There are {self.seats_available} left on the bus!\")\n",
    "            \n",
    "#increment the number of seats available\n",
    "    def unload_passengers(self): #any method thats taking a class attribute needs to take on \"self\"\n",
    "        if self.seats_available >= self.seats:\n",
    "            print(\"There is no one left to get off the bus!\")\n",
    "        else:\n",
    "            unload = int(input(\"How many passengers are getting off the bus?\")) #int- expect a number here \n",
    "            self.seats_available += unload\n",
    "            if self.seats_available >= self.seats:\n",
    "                self.seats_available = self.seats\n",
    "                print(f\"{unload} passengers have left the bus! There are {self.seats_available} left.\")\n",
    "            print(f\"{unload} passengers have left the bus! There are {self.seats_available} left.\")\n",
    "            \n",
    "#method to change bus_driver attribute\n",
    "    def change_driver(self):\n",
    "        change = input(\"Who is replaceing you?\")\n",
    "        self.bus_driver = change\n",
    "        print(f\"The new bus driver is {self.bus_driver}. Be sure to thank them!\")\n",
    "        \n",
    "#display seat information\n",
    "    def check_seats(self):\n",
    "        print(self.seats_available)\n",
    "        \n",
    "#display color information about bus\n",
    "    def admire_bus(self):\n",
    "        print(f\"Would you just look at that beautiful {self.color} bus? Simply stunning.\")\n",
    "        \n",
    "madea_bus = Bus(2, 90, 45, \"yellow\", \"Madea\")"
   ]
  },
  {
   "cell_type": "markdown",
   "metadata": {},
   "source": [
    "##### Calling"
   ]
  },
  {
   "cell_type": "code",
   "execution_count": 79,
   "metadata": {},
   "outputs": [
    {
     "name": "stdout",
     "output_type": "stream",
     "text": [
      "What would you like to do? Load/Unload/Change Driver/Check Seats/Admire/Quit?quit\n",
      "Oh no! There are still passengers to be picked up. :(\n"
     ]
    }
   ],
   "source": [
    "# See Above\n",
    "def run():\n",
    "    while True: \n",
    "        response = input(\"What would you like to do? Load/Unload/Change Driver/Check Seats/Admire/Quit?\")\n",
    "        if response.lower() == \"quit\": #be sure to have () after lower!\n",
    "            print(\"Oh no! There are still passengers to be picked up. :(\" )\n",
    "            break\n",
    "        elif response.lower() == \"load\":\n",
    "            madea_bus.load_passengers() #make SURE we have () after .methods() or it will tell me I don't have attribute\n",
    "        \n",
    "        elif response.lower() == \"unload\":\n",
    "            madea_bus.unload_passengers()\n",
    "            \n",
    "        elif response.lower() == \"change driver\":\n",
    "            madea_bus.change_driver()\n",
    "        \n",
    "        elif response.lower() == \"check seats\":\n",
    "            madea_bus.check_seats()\n",
    "            \n",
    "        elif response.lower() == \"admire\":\n",
    "            madea_bus.admire_bus()\n",
    "        \n",
    "        else:\n",
    "            print(\"That is not a valid response! Please choose from the list. Spanx!\")\n",
    "            \n",
    "run()"
   ]
  },
  {
   "cell_type": "markdown",
   "metadata": {},
   "source": [
    "##### Modifying an Attribute's Value Through a Method"
   ]
  },
  {
   "cell_type": "code",
   "execution_count": null,
   "metadata": {},
   "outputs": [],
   "source": [
    "#see above"
   ]
  },
  {
   "cell_type": "markdown",
   "metadata": {},
   "source": [
    "##### Incrementing an Attribute's Value Through a Method"
   ]
  },
  {
   "cell_type": "code",
   "execution_count": null,
   "metadata": {},
   "outputs": [],
   "source": [
    "#see above"
   ]
  },
  {
   "cell_type": "markdown",
   "metadata": {},
   "source": [
    "##### In-Class Exercise #3 - Add a method that takes in three parameters of year, doors and seats and prints out a formatted print statement with make, model, year, seats, and doors"
   ]
  },
  {
   "cell_type": "code",
   "execution_count": 93,
   "metadata": {},
   "outputs": [
    {
     "name": "stdout",
     "output_type": "stream",
     "text": [
      "2019 Ford Explorer 4 5\n",
      "\n",
      "\n",
      "This car is from 2019 and is a Ford Explorer and has 4 doors and 5 seats\n",
      "\n",
      "\n",
      "However, before a very expensive custom job my explorer had 5 seats.\n",
      "After the check cleared, my ford now has 2 gigantic and very illegal bench seats with no seatbelts cuz danger is what I eat for breakfast.\n",
      "2019 Ford Explorer 4 5\n",
      "\n",
      "\n",
      "This car is from 2019 and is a Ford Explorer and has 4 doors and 5 seats\n"
     ]
    }
   ],
   "source": [
    "# Create class with 2 paramters inside of the __init__ which are make and model\n",
    "\n",
    "# Create two methods for your class (the ones below: alters an attribute & create class method)\n",
    "\n",
    "# Create a method that altars an attribute for your class \n",
    "\n",
    "# Display method that prints information about the vehicle\n",
    "\n",
    "# Output: This car is from 2019 and is a Ford Explorer and has 4 doors and 5 seats\n",
    "\n",
    "#reminder in order to call class methods instance.method()\n",
    "\n",
    "\n",
    "class Car():\n",
    "    def __init__(self, year, make, model, doors, seats):\n",
    "        self.year = year\n",
    "        self.make = make\n",
    "        self.model = model\n",
    "        self.doors = doors\n",
    "        self.seats = seats\n",
    "ford = Car(2019, \"Ford\", \"Explorer\", 4, 5)\n",
    "print(ford.year, ford.make, ford.model, ford.doors, ford.seats)\n",
    "\n",
    "print(\"\\n\")\n",
    "\n",
    "print(f\"This car is from {ford.year} and is a {ford.make} {ford.model} and has {ford.doors} doors and {ford.seats} seats\")\n",
    "\n",
    "print(\"\\n\")\n",
    "\n",
    "print(f\"However, before a very expensive custom job my explorer had {ford.seats} seats.\")\n",
    "ford.seats = 2\n",
    "print(f\"After the check cleared, my ford now has {ford.seats} gigantic and very illegal bench seats with no seatbelts cuz danger is what I eat for breakfast.\")\n",
    "\n",
    "\n",
    "class Car():\n",
    "    def __init__(self, year, make, model, doors, seats):\n",
    "        self.year = year\n",
    "        self.make = make\n",
    "        self.model = model\n",
    "        self.doors = doors\n",
    "        self.seats = seats\n",
    "        \n",
    "    def display_info(self):\n",
    "        print(f\"This car is from {self.year} and is a {self.make} {self.model} and has {self.doors} doors and {self.seats} seats\")\n",
    "ford = Car(2019, \"Ford\", \"Explorer\", 4, 5)\n",
    "print(ford.year, ford.make, ford.model, ford.doors, ford.seats)\n",
    "\n",
    "print(\"\\n\")\n",
    "\n",
    "print(f\"This car is from {ford.year} and is a {ford.make} {ford.model} and has {ford.doors} doors and {ford.seats} seats\")\n",
    "        "
   ]
  },
  {
   "cell_type": "markdown",
   "metadata": {},
   "source": [
    "## Inheritance <br>\n",
    "<p>You can create a child-parent relationship between two classes by using inheritance. What this allows you to do is have overriding methods, but also inherit traits from the parent class. Think of it as an actual parent and child, the child will inherit the parent's genes, as will the classes in OOP</p>"
   ]
  },
  {
   "cell_type": "markdown",
   "metadata": {},
   "source": [
    "##### Syntax for Inheriting from a Parent Class"
   ]
  },
  {
   "cell_type": "code",
   "execution_count": 103,
   "metadata": {},
   "outputs": [],
   "source": [
    "#Create of our parent class\n",
    "class Animal():\n",
    "    ACCELERATION = 9.8\n",
    "    def __init__(self, name, species,legs=4):\n",
    "        self.name = name\n",
    "        self.species = species\n",
    "        self.legs = legs\n",
    "        \n",
    "    #Generic parent method\n",
    "    def make_sound(self):\n",
    "        print(\"REEEEEE\")\n",
    "        \n",
    "#Creation of our child class - Dog\n",
    "#When we're inheriting from another class, we stick the class we're inheriting from inside the parenthesis below\n",
    "class Dog(Animal):\n",
    "    SPEED = 15\n",
    "    \n",
    "    def print_info(self):\n",
    "        print(f\"The dog runs at {self.SPEED} mph and accelerates at {self.ACCELERATION} mps^2\")\n",
    "        \n",
    "#Creation of our grandchild class - Mutt \n",
    "class Mutt(Dog):\n",
    "    COLOR = \"light brownish, beige\"\n",
    "    \n",
    "    #Accessing the Animal class init through the Dog class \n",
    "    def __init__(self, name, species, eye_color, legs = 4):\n",
    "        Dog.__init__(self, name, species, legs,)\n",
    "        self.eye_color = eye_color\n",
    "        \n",
    "    #Override the make_sound metion from the Animal class\n",
    "    def make_sound(self):\n",
    "        print(\"roooooooooo\") "
   ]
  },
  {
   "cell_type": "code",
   "execution_count": 106,
   "metadata": {
    "scrolled": true
   },
   "outputs": [
    {
     "name": "stdout",
     "output_type": "stream",
     "text": [
      "REEEEEE\n",
      "REEEEEE\n",
      "REEEEEE\n",
      "9.8\n",
      "REEEEEE\n"
     ]
    }
   ],
   "source": [
    "bear = Animal(\"Otto\", \"Polar Bear\")\n",
    "otter = Animal(\"Bear\", \"River Otter\")\n",
    "liger = Animal(\"Napoleon\", \"Liger\")\n",
    "bear.make_sound()\n",
    "otter.make_sound()\n",
    "liger.make_sound()\n",
    "llama = Animal(\"Tina\", \"Llama\")\n",
    "print(bear.ACCELERATION)\n",
    "llama.make_sound()"
   ]
  },
  {
   "cell_type": "code",
   "execution_count": null,
   "metadata": {},
   "outputs": [],
   "source": [
    "greg = Dog(\"Greg\", \"Pitbull\")\n",
    "greg.make_sound()\n",
    "print(greg.legs)\n",
    "greg.print_info()\n",
    "\n",
    "bear.print_info()"
   ]
  },
  {
   "cell_type": "code",
   "execution_count": 107,
   "metadata": {},
   "outputs": [
    {
     "name": "stdout",
     "output_type": "stream",
     "text": [
      "The dog runs at 15 mph and accelerates at 9.8 mps^2\n",
      "light brownish, beige\n",
      "Brown\n",
      "Green\n",
      "roooooooooo\n",
      "roooooooooo\n"
     ]
    }
   ],
   "source": [
    "eyo = Mutt(\"Eyo\", \"Dog\", \"Brown\")\n",
    "henri = Mutt(\"Henri\", \"Dog\", \"Green\")\n",
    "\n",
    "eyo.print_info()\n",
    "print(henri.COLOR)\n",
    "print(eyo.eye_color)\n",
    "print(henri.eye_color)\n",
    "eyo.make_sound()\n",
    "henri.make_sound()"
   ]
  },
  {
   "cell_type": "markdown",
   "metadata": {},
   "source": [
    "##### The \\__init\\__() Method for a Child Class - super()"
   ]
  },
  {
   "cell_type": "code",
   "execution_count": 109,
   "metadata": {
    "scrolled": true
   },
   "outputs": [
    {
     "name": "stdout",
     "output_type": "stream",
     "text": [
      "Courage\n",
      "Schnauzer\n",
      "The dog runs at 15 mph and accelerates at 9.8 mps^2\n"
     ]
    }
   ],
   "source": [
    "class Mutt(Dog):\n",
    "    \n",
    "    COLOR = \"lots of colors\"\n",
    "    #accessing the Animal class__init__with the super().__init__\n",
    "    def __init__(self, name, species, eye_color, legs = 4):\n",
    "        super().__init__(name, species, legs)\n",
    "        #super() will reference the class tht the child takes in \n",
    "        def make_sound(self):\n",
    "            print(\"wooooof\")\n",
    "courage = Mutt(\"Courage\", \"Schnauzer\", \"black\")\n",
    "\n",
    "print(courage.name)\n",
    "print(courage.species)\n",
    "courage.print_info()\n",
    "\n",
    "#passing attributes down from parent to child class"
   ]
  },
  {
   "cell_type": "markdown",
   "metadata": {},
   "source": [
    "##### Defining Attributes and Methods for the Child Class"
   ]
  },
  {
   "cell_type": "code",
   "execution_count": null,
   "metadata": {},
   "outputs": [],
   "source": [
    "# See Above"
   ]
  },
  {
   "cell_type": "markdown",
   "metadata": {},
   "source": [
    "##### Method Overriding"
   ]
  },
  {
   "cell_type": "code",
   "execution_count": null,
   "metadata": {},
   "outputs": [],
   "source": [
    "# See Above"
   ]
  },
  {
   "cell_type": "markdown",
   "metadata": {},
   "source": [
    "## Classes as Attributes <br>\n",
    "<p>Classes can also be used as attributes within another class. This is useful in situations where you need to keep variables locally stored, instead of globally stored.</p>"
   ]
  },
  {
   "cell_type": "code",
   "execution_count": 113,
   "metadata": {},
   "outputs": [
    {
     "name": "stdout",
     "output_type": "stream",
     "text": [
      "2022 Volkswagen Jetta 20\n",
      "7.8\n"
     ]
    }
   ],
   "source": [
    "class Battery():\n",
    "    VOLTZ = 7.8\n",
    "    \n",
    "    def __init__(self, cells):\n",
    "        self.cells = cells\n",
    "class Car():\n",
    "    def __init__(self, year, make, model, battery):\n",
    "        self.year = year\n",
    "        self.make = make\n",
    "        self.model = model\n",
    "        self.battery = battery\n",
    "        \n",
    "    def print_info(self):\n",
    "        print(f\"{self.year} {self.make} {self.model} {self.battery.cells}\")\n",
    "        \n",
    "battery = Battery(20)\n",
    "\n",
    "volkswagen = Car(2022, \"Volkswagen\", \"Jetta\", battery)\n",
    "\n",
    "volkswagen.print_info()\n",
    "\n",
    "print(volkswagen.battery.VOLTZ)\n",
    "        "
   ]
  },
  {
   "cell_type": "markdown",
   "metadata": {},
   "source": [
    "# Exercises"
   ]
  },
  {
   "cell_type": "markdown",
   "metadata": {},
   "source": [
    "### Exercise 1 - Turn the shopping cart program from last week into an object-oriented program\n",
    "\n",
    "The comments in the cell below are there as a guide for thinking about the problem. However, if you feel a different way is best for you and your own thought process, please do what feels best for you by all means."
   ]
  },
  {
   "cell_type": "code",
   "execution_count": 135,
   "metadata": {},
   "outputs": [
    {
     "name": "stdout",
     "output_type": "stream",
     "text": [
      "These items are currently in your cart:\n",
      "Thank you for shopping with us! See you next time!\n"
     ]
    }
   ],
   "source": [
    "#create a class called cart that retains items and has methods to add, remove, and show\n",
    "#make sure all functions are taking in \"self\" if you don't have self, it won't know what's happening when you're working with functions\n",
    "#error usually means I messed up a \"self\" somewhere\n",
    "#run function is going to drive the function as far as user input \n",
    "#I will be calling different methods from instantiated objects\n",
    "\n",
    "#from IPython.display import clear_output\n",
    "\n",
    "#class Cart():\n",
    "    #def shoppingCart():\n",
    "        #cart = []\n",
    "        #while True:\n",
    "            #ask = input(\"Do you want to : Show/Add/Delete or Checkout?\")\n",
    "            #if ask.lower() == \"checkout\":\n",
    "                #print()\n",
    "                #for item in cart:\n",
    "                    #print(item)\n",
    "                #break\n",
    "            #elif ask.lower() == \"add\":\n",
    "                #item = input(\"What items would you like to add?\")\n",
    "                #cart.append(item)\n",
    "                #print(cart)\n",
    "            #elif ask.lower() == \"delete\":\n",
    "                #print(f\"here is your cart {cart}\")\n",
    "                #item = input(\"What items would you like to delete?\")\n",
    "                #cart.remove(item)\n",
    "                #print(cart)\n",
    "            #elif ask.lower() == \"show\":\n",
    "                #print(\"Here are the items in your cart:\")\n",
    "                #for item in cart:\n",
    "                    #print(item)\n",
    "            #else:\n",
    "                #print(\"Please enter Show/Add/Delete or Checkout\")\n",
    "#print(shoppingCart())\n",
    "\n",
    "from IPython.display import clear_output\n",
    "\n",
    "class ShoppingCart:\n",
    "    def __init__(self, items):\n",
    "        self.items = items\n",
    "        \n",
    "    def showCart(self):\n",
    "        clear_output()\n",
    "        print('These items are currently in your cart:')\n",
    "        for item in self.items:\n",
    "            print(item)\n",
    "    \n",
    "    def addToCart(self):\n",
    "        clear_output()\n",
    "        product = (input)('What would you like to add? ')\n",
    "        self.items.append(product)\n",
    "    \n",
    "    def removeFromCart(self):\n",
    "        clear_output()\n",
    "        print('These items are currently in your cart:')\n",
    "        for item in self.items:\n",
    "            print(item)\n",
    "        product = (input)('What would you like to remove? ')\n",
    "        self.items.remove(product)\n",
    "\n",
    "def cartProgram():\n",
    "    aldi = ShoppingCart([])\n",
    "    while True:\n",
    "        res = input('Would you like to: \\n1) Add to cart (type \"add\") \\n2) Remove from cart (type \"remove\") \\n3) Show current items in cart (type \"show\") \\n4) Quit the program (type \"quit\")\\n')\n",
    "        \n",
    "        if res.lower() == 'quit':\n",
    "            aldi.showCart()\n",
    "            print('Thank you for shopping with us! See you next time!')\n",
    "            break\n",
    "            \n",
    "        elif res.lower() == 'add':\n",
    "            aldi.addToCart()\n",
    "            \n",
    "        elif res.lower() == 'remove':  \n",
    "            aldi.removeFromCart()\n",
    "            \n",
    "        elif res.lower() == 'show':\n",
    "            aldi.showCart()\n",
    "\n",
    "        else:\n",
    "            print('Please enter a valid command')\n",
    "\n",
    "\n",
    "cartProgram()\n",
    "                \n"
   ]
  },
  {
   "cell_type": "markdown",
   "metadata": {},
   "source": [
    "### Exercise 2 - Write a Python class which has two methods get_String and print_String. get_String accept a string from the user and print_String print the string in upper case"
   ]
  },
  {
   "cell_type": "code",
   "execution_count": null,
   "metadata": {},
   "outputs": [],
   "source": [
    "class Python():\n",
    "    def get_String(self):\n",
    "        self.string = input('Enter information: ')\n",
    "\n",
    "    def print_String(self):\n",
    "        print(self.string.upper())\n",
    "\n",
    "string = Python()\n",
    "string.get_String()\n",
    "string.print_String()"
   ]
  },
  {
   "cell_type": "code",
   "execution_count": null,
   "metadata": {},
   "outputs": [],
   "source": []
  }
 ],
 "metadata": {
  "kernelspec": {
   "display_name": "Python 3 (ipykernel)",
   "language": "python",
   "name": "python3"
  },
  "language_info": {
   "codemirror_mode": {
    "name": "ipython",
    "version": 3
   },
   "file_extension": ".py",
   "mimetype": "text/x-python",
   "name": "python",
   "nbconvert_exporter": "python",
   "pygments_lexer": "ipython3",
   "version": "3.9.12"
  }
 },
 "nbformat": 4,
 "nbformat_minor": 2
}
